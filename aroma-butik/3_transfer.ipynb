{
 "cells": [
  {
   "cell_type": "code",
   "execution_count": 1,
   "id": "555f4842-ea39-48f8-af53-e11391d8a210",
   "metadata": {},
   "outputs": [],
   "source": [
    "import pandas as pd\n",
    "import sqlite3\n",
    "import random\n",
    "\n",
    "conn = sqlite3.connect('aroma.db')\n",
    "df = pd.read_sql_query('SELECT * FROM items', conn)\n",
    "conn.close()"
   ]
  },
  {
   "cell_type": "raw",
   "id": "ef1417b2-ff9b-4e94-81c7-732beb43b285",
   "metadata": {},
   "source": [
    "Функция обработки строки и получения из нее полного объема\n",
    "Например:\n",
    "\"набор: духи, 30 мл + духи, 125 мл (сменный объем)\" => \"155\""
   ]
  },
  {
   "cell_type": "code",
   "execution_count": 12,
   "id": "a1307902-0f38-4556-8a9a-def96e46b782",
   "metadata": {},
   "outputs": [],
   "source": [
    "import re\n",
    "\n",
    "def calculate_string(s):\n",
    "    s = str(s).replace('духи', '')\n",
    "    s = re.sub(r'(\\d+),(\\d+)', r'\\1.\\2', s)\n",
    "\n",
    "    numbers = re.findall(r'\\d+\\.?\\d*', s)\n",
    "    operators = re.findall(r'[+\\-*xхх]', s)\n",
    "\n",
    "    numbers = [float(num) for num in numbers]\n",
    "\n",
    "    i = 0\n",
    "    while i < len(operators):\n",
    "        op = operators[i]\n",
    "        if op == '*' or op == 'x' or op == 'х' or op == 'х':\n",
    "            if op == '*' or op == 'x' or op == 'х' or op == 'х':\n",
    "                result = numbers[i] * numbers[i+1]\n",
    "            else:\n",
    "                result = numbers[i] / numbers[i+1]\n",
    "            numbers[i:i+2] = [result]\n",
    "            del operators[i]\n",
    "        else:\n",
    "            i += 1\n",
    "\n",
    "    result = numbers[0]\n",
    "    for i, op in enumerate(operators):\n",
    "        next_num = numbers[i+1] if i+1 < len(numbers) else 0\n",
    "        if op == '+' or op == 'и':\n",
    "            result += next_num\n",
    "        elif op == '-':\n",
    "            result -= next_num\n",
    "\n",
    "    return result"
   ]
  },
  {
   "cell_type": "code",
   "execution_count": 12,
   "id": "f5d217b2-36cd-47b7-bb7b-dd8883a2e9f8",
   "metadata": {
    "scrolled": true
   },
   "outputs": [],
   "source": [
    "df['volume'] = df['volume'].apply(calculate_string)"
   ]
  },
  {
   "cell_type": "raw",
   "id": "273bcbb2-f962-48e0-89d2-2122f7894759",
   "metadata": {},
   "source": [
    "Строки заполнения габаритов и веса товара"
   ]
  },
  {
   "cell_type": "code",
   "execution_count": 13,
   "id": "bc16e29a-5313-48fc-bd19-13a934a454de",
   "metadata": {},
   "outputs": [],
   "source": [
    "import random\n",
    "\n",
    "def get_dimensions(volume):\n",
    "    if 3 <= volume <= 14:\n",
    "        weight = random.randint(42, 60)\n",
    "        length = random.randint(44, 64)\n",
    "        width = random.randint(44, 44)\n",
    "        height = random.randint(55, 69)\n",
    "    elif 15 <= volume <= 45:\n",
    "        weight = random.randint(60, 150)\n",
    "        length = random.randint(60, 100)\n",
    "        width = random.randint(50, 100)\n",
    "        height = random.randint(60, 140)\n",
    "    elif 45 <= volume <= 99:\n",
    "        weight = random.randint(150, 250)\n",
    "        length = random.randint(120, 150)\n",
    "        width = random.randint(50, 100)\n",
    "        height = random.randint(80, 170)\n",
    "    elif 99 <= volume:\n",
    "        weight = volume + 100\n",
    "        length = 150\n",
    "        width = 100\n",
    "        height = 170\n",
    "    \n",
    "    return weight, length, width, height\n",
    "\n",
    "df[['weight', 'length', 'width', 'height']] = df['volume'].apply(lambda x: pd.Series(get_dimensions(x)))"
   ]
  },
  {
   "cell_type": "raw",
   "id": "8f6f07ca-c60e-4aff-be78-4ea6f049440a",
   "metadata": {},
   "source": [
    "Строки очищения df от брендов, названия которых не должны встречаться и брендов, которых быть в df не должно"
   ]
  },
  {
   "cell_type": "code",
   "execution_count": 14,
   "id": "fa2cae92-f8c9-4ee0-97c9-3c8f544b9165",
   "metadata": {},
   "outputs": [],
   "source": [
    "search_str = [\"ZARKOPERFUME\", \"Acqua di Parma\", \"Abercrombie & Fitch\", \"Aerin\", \"Giorgio Armani\", \"Armani\", \"Amouage\", \"Balmain\", \"Benetton\", \"Boadicea The Victorious\", \"BYBOZO\", \"Byredo\", \"Carolina Herrera\", \"Calvin Klein\", \"CK\", \"Creed\", \"Diptyque\", \"Donna Karan\", \"Christian Dior\", \"Ermenegildo Zegna\", \"Etat Libre D`Orange\", \"Etat\", \"Evody\", \"Ex Nihilo\", \"Franck Olivier\", \"Giardino Benessere\", \"Guess\", \"Gucci\", \"Hermes\", \"Hermetica\", \"Histoires de Parfums\", \"Jacques Zolty\", \"Jeanne Arthes\", \"John Varvatos\", \"Juicy Couture\", \"Couture\", \"Juliette has a Gun\", \"Lanvin\", \"Lacoste\", \"Lancome\", \"Les Contes\", \"Michael Kors\", \"Moresque\", \"Olfactive Studio\", \"Paco Rabanne\", \"Penhaligon's\", \"Philipp Plein\", \"Ralph Lauren\", \"Stella McCartney\", \"Tiziana Terenzi\", \"Tom Ford\", \"Tommy Hilfiger\", \"Tous\", \"V Canto\", \"Vilhelm Parfumerie\", \"Zarkoperfume\", \"Versace\", \"Givenchy\", \"Memo\", \"Hermes\", \"Jo Malone\", 'аква ди парма', 'аберкромби & фитч', 'аерин', 'Амуаж', 'Бальмен', 'Бальмэйн', 'Бенеттон', 'Бодичеа Викториос', 'Байбозо', 'Биредо', 'Каролина Херрера', 'Кельвин Кляйн', 'Крид', 'Диптик', 'Донна Каран', 'Диор', 'Ерменегильдо Зегна', 'Этат', 'Эводи', 'Экс Нихило', 'Фрэнк Оливер', 'Жардино Бенессере', 'Гесс', 'Гуччи', 'Гермес', 'Герметика', 'Хисторес де парфюмс', 'Жакье Золти', 'Жан Артес', 'Джон Варватос', 'Джуси Кутюр', 'Майкл Корс', 'Мореск', 'Ольфактив Студио', 'Пако Рабанне', 'Пенхалигонс', 'Филипп Пляйн', 'Ральф Лорен', 'Стелла МакКартни', 'Тизмана Терензи', 'Том Форд', 'Томми хилфигер', 'Той', 'В Канто', 'Вильгельм Парфюмерие', 'Заркоперфюм', 'Версаче', 'Дживанши', 'Мемо', 'Гермес', 'Джо Малон']\n",
    "for item in search_str:\n",
    "    mask = df['brand'].astype(str).apply(lambda y: bool(re.search(re.escape(item.lower()), y.lower(), re.IGNORECASE)))\n",
    "    df.loc[mask, 'brand'] = \"НЕТ БРЕНДА\"\n",
    "\n",
    "delete_str = [\"Antonio Banderas\", \"Hugo Boss\", \"Carolina Herrera\", \"Chanel\", \"Clarins\", \"Dior\", \"Dolce & Gabbana\", \"Escentric Molecules\", \"Armani\", \"Givenchy\", \"Lancome\", \"Lanvin\", \"Versace\", 'Антонио Бандерас', 'Хуго Босс', 'Каролина Херрера', 'Шанел', 'Кларинс', 'Диор', 'Дольче & Габанна', 'Ескентрик Молекулес', 'Армани', 'Дживанши', 'Ланкоме', 'Ланвин', 'Версаче', 'Хьюго Босс', 'Клэринс', 'Клеринс', 'Дольче Габана', 'Дольче Габбана', 'Живанши', 'Ланком']\n",
    "for item in delete_str:\n",
    "    mask = df.apply(lambda row: row.astype(str).str.contains(r'\\b' + re.escape(item) + r'\\b', case=False, regex=True).any(), axis=1)\n",
    "    df = df[~mask]\n",
    "\n",
    "replace_str = ''\n",
    "for item in search_str:\n",
    "    mask = df['item_name'].astype(str).apply(lambda y: bool(re.search(r'\\b' + re.escape(item.lower()) + r'\\b' + ', ', y.lower(), re.IGNORECASE)))\n",
    "    df.loc[mask, 'item_name'] = df.loc[mask, 'item_name'].apply(lambda x: re.sub(r'\\b' + re.escape(item) + r'\\b' + ', ', replace_str, x, flags=re.IGNORECASE) if isinstance(x, str) else x)\n",
    "\n",
    "for item in search_str:\n",
    "    mask = df['annotation'].astype(str).apply(lambda y: bool(re.search(r'\\b' + re.escape(item.lower()) + r'\\b', y.lower(), re.IGNORECASE)))\n",
    "    df.loc[mask, 'annotation'] = df.loc[mask, 'annotation'].apply(lambda x: re.sub(r'\\b' + re.escape(item) + r'\\b', replace_str, x, flags=re.IGNORECASE) if isinstance(x, str) else x)"
   ]
  },
  {
   "cell_type": "code",
   "execution_count": null,
   "id": "5cc1aed1-f03f-4b41-b498-233b7e4f4acd",
   "metadata": {},
   "outputs": [],
   "source": [
    "countries = [\"Австралия\", \"Австрия\", \"Азербайджан\", \"Аргентина\", \"Бахрейн\", \"Бельгия\", \"Великобритания\", \"Германия\", \"Греция\", \"Дания\", \"Египет\", \"Индия\", \"Ирландия\", \"Исландия\", \"Испания\", \"Италия\", \"Канада\", \"Катар\", \"Китай\", \"Кувейт\", \"Латвия\", \"Ливан\", \"Монако\", \"Нидерланды\", \"ОАЭ\", \"Оман\", \"Польша\", \"Португалия\", \"Россия\", \"США\", \"Саудовская Аравия\", \"Сирия\", \"Словакия\", \"Словения\", \"Турция\", \"Украина\", \"Финляндия\", \"Франция\", \"Чехия\", \"Швейцария\", \"Швеция\", \"Япония\"]\n",
    "\n",
    "df.loc[~df['country'].isin(countries), 'country'] = ''"
   ]
  },
  {
   "cell_type": "code",
   "execution_count": null,
   "id": "f48cc33d-e910-4b95-bfbc-695e5add7917",
   "metadata": {},
   "outputs": [],
   "source": [
    "df['image_url'] = df['image_url'].str.replace('thumbnail_images', 'original_images')"
   ]
  },
  {
   "cell_type": "code",
   "execution_count": null,
   "id": "65cafdba-7102-4326-9d0a-b26105ca78fd",
   "metadata": {},
   "outputs": [],
   "source": [
    "df = df[~df['item_name'].str.contains('тестер')]"
   ]
  },
  {
   "cell_type": "code",
   "execution_count": null,
   "id": "5efcf56d-d7cc-4442-981b-6fc789d9d5fe",
   "metadata": {},
   "outputs": [],
   "source": [
    "df['okpd_code'] = 'ОКПД - 20.42.11 - Духи и туалетная вода'"
   ]
  },
  {
   "cell_type": "code",
   "execution_count": 15,
   "id": "bcaa32a3-9f9e-499a-8add-46ab8c5cf950",
   "metadata": {},
   "outputs": [],
   "source": [
    "grouped = df.groupby('commerce_type')\n",
    "\n",
    "for commerce_type, group_df in grouped:\n",
    "    filename = f'{commerce_type}.xlsx'\n",
    "    group_df.to_excel(filename, index=False)\n"
   ]
  },
  {
   "cell_type": "code",
   "execution_count": null,
   "id": "7594810a-c891-456a-ad7b-9e6f27071bfe",
   "metadata": {},
   "outputs": [],
   "source": []
  }
 ],
 "metadata": {
  "kernelspec": {
   "display_name": "Python 3 (ipykernel)",
   "language": "python",
   "name": "python3"
  },
  "language_info": {
   "codemirror_mode": {
    "name": "ipython",
    "version": 3
   },
   "file_extension": ".py",
   "mimetype": "text/x-python",
   "name": "python",
   "nbconvert_exporter": "python",
   "pygments_lexer": "ipython3",
   "version": "3.11.3"
  }
 },
 "nbformat": 4,
 "nbformat_minor": 5
}
