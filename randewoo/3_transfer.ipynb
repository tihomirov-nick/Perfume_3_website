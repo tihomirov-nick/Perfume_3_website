{
 "cells": [
  {
   "cell_type": "code",
   "execution_count": 40,
   "id": "a38f6d28",
   "metadata": {},
   "outputs": [],
   "source": [
    "import pandas as pd\n",
    "import sqlite3, requests\n",
    "\n",
    "import re"
   ]
  },
  {
   "cell_type": "code",
   "execution_count": 41,
   "id": "05becec8",
   "metadata": {
    "scrolled": true
   },
   "outputs": [],
   "source": [
    "conn = sqlite3.connect('D:\\\\PYTHON\\\\randewoo\\\\database.db')\n",
    "df = pd.read_sql_query('SELECT * FROM items_data', conn)\n",
    "conn.close()"
   ]
  },
  {
   "cell_type": "code",
   "execution_count": 42,
   "id": "8313a003",
   "metadata": {},
   "outputs": [],
   "source": [
    "# df = df.applymap(lambda x: x.replace(\"Парфюмерная вода женские\", \"Парфюмерная вода женская\") if isinstance(x, str) and \"Парфюмерная вода женские\" in x else x)\n",
    "# df = df.applymap(lambda x: x.replace(\"Парфюмерная вода унисекс\", \"Парфюмерная вода женская\") if isinstance(x, str) and \"Парфюмерная вода унисекс\" in x else x)\n",
    "# df = df.applymap(lambda x: x.replace(\"Парфюмерная вода мужские\", \"Парфюмерная вода мужская\") if isinstance(x, str) and \"Парфюмерная вода мужские\" in x else x)"
   ]
  },
  {
   "cell_type": "code",
   "execution_count": 43,
   "id": "14d0594b",
   "metadata": {},
   "outputs": [],
   "source": [
    "df = df.drop('search_name', axis=1)"
   ]
  },
  {
   "cell_type": "code",
   "execution_count": 45,
   "id": "58286a73",
   "metadata": {},
   "outputs": [],
   "source": [
    "out_df = df[(df['commerce_type'] == 'Духи унисекс') | (df['commerce_type'] == 'Духи женские')]"
   ]
  },
  {
   "cell_type": "code",
   "execution_count": 46,
   "id": "2c79e814",
   "metadata": {},
   "outputs": [
    {
     "data": {
      "text/plain": [
       "Index(['art', 'item_name', 'price', 'prev_price', 'nds', 'commerce_type',\n",
       "       'weight', 'width', 'height', 'length', 'image_url', 'item_type',\n",
       "       'model_name', 'brand', 'sex', 'add_together', 'volume', 'country',\n",
       "       'target_audience', 'composition', 'danger_class', 'expiration_date',\n",
       "       'okpd_code', 'annotation'],\n",
       "      dtype='object')"
      ]
     },
     "execution_count": 46,
     "metadata": {},
     "output_type": "execute_result"
    }
   ],
   "source": [
    "out_df.columns"
   ]
  },
  {
   "cell_type": "code",
   "execution_count": 47,
   "id": "e2d6b381-3d42-4ba1-8db2-511ef946d461",
   "metadata": {},
   "outputs": [],
   "source": [
    "def compare_strings_url(s1, s2):\n",
    "    s1 = pd.Series([x for x in str(s1).lower().split(\",\") if 'мл' not in x])\n",
    "    s2 = pd.Series([x for x in str(s2).lower().split(\",\") if 'мл' not in x])\n",
    "    \n",
    "    s1 = pd.Series([x for x in s1.str.split().explode() if x != ''])\n",
    "    s2 = pd.Series([x for x in s2.str.split().explode() if x != ''])\n",
    "    if len(s1) < len(s2):\n",
    "        shorter_series, longer_series = s1, s2\n",
    "    else:\n",
    "        shorter_series, longer_series = s2, s1\n",
    "\n",
    "    count = shorter_series.isin(longer_series).sum()\n",
    "\n",
    "    if count >= (len(shorter_series)):\n",
    "        return 1\n",
    "    else:\n",
    "        return 0\n",
    "\n",
    "def fill_img_url(row):\n",
    "    if pd.isnull(row['image_url']):\n",
    "        query = row['item_name']\n",
    "        url = f'https://api.retailrocket.ru/api/2.0/recommendation/Search/525a65850d422d408c357a8c/?&phrase={query}session=64a1b414b2113a5f4a3e6c8d&pvid=605539862619794&isDebug=false&format=json'\n",
    "        response = requests.get(url=url).json()[0]\n",
    "        if compare_strings_url(row['item_name'], f'''{response['Params']['brand']}, {response['Params']['name_part_1']}''') == 1:\n",
    "            return response['PictureUrl']\n",
    "        else:\n",
    "            return row['image_url']\n",
    "    else:\n",
    "        return row['image_url']"
   ]
  },
  {
   "cell_type": "code",
   "execution_count": 48,
   "id": "8cb46645",
   "metadata": {
    "scrolled": true
   },
   "outputs": [],
   "source": [
    "def compare_strings(s1, s2):\n",
    "    s1 = pd.Series([x for x in str(s1).lower().split(\",\") if 'мл' not in x])\n",
    "    s2 = pd.Series([x for x in str(s2).lower().split(\",\") if 'мл' not in x])\n",
    "    \n",
    "    s1 = pd.Series([x for x in s1.str.split().explode() if x != ''])\n",
    "    s2 = pd.Series([x for x in s2.str.split().explode() if x != ''])\n",
    "\n",
    "    if len(s1) == len(s2):\n",
    "        shorter_series, longer_series = s1, s2\n",
    "    else:\n",
    "        return 0\n",
    "\n",
    "    count = shorter_series.isin(longer_series).sum()\n",
    "\n",
    "    if count >= (len(shorter_series)):\n",
    "        return 1\n",
    "    else:\n",
    "        return 0\n",
    "\n",
    "unique_id = 1000000\n",
    "for index, row in out_df.iterrows():\n",
    "    item_name = row['item_name']\n",
    "    if int(row['add_together']) < 999999: \n",
    "        similar_items = out_df[out_df['item_name'].apply(lambda x: compare_strings(item_name, x)) == 1]\n",
    "        out_df.loc[similar_items.index, 'add_together'] = unique_id\n",
    "        unique_id += 1"
   ]
  },
  {
   "cell_type": "code",
   "execution_count": 49,
   "id": "7182d6f9-44f7-49b1-9d7c-bcd81fee2e33",
   "metadata": {
    "scrolled": true
   },
   "outputs": [],
   "source": [
    "# def compare_strings(s1, s2):\n",
    "#     s1 = pd.Series([x for x in str(s1).lower().split(\",\") if 'мл' not in x])\n",
    "#     s2 = pd.Series([x for x in str(s2).lower().split(\",\") if 'мл' not in x])\n",
    "    \n",
    "#     s1 = pd.Series([x for x in s1.str.split().explode() if x != ''])\n",
    "#     s2 = pd.Series([x for x in s2.str.split().explode() if x != ''])\n",
    "\n",
    "#     if len(s1) < len(s2):\n",
    "#         shorter_series, longer_series = s1, s2\n",
    "#     else:\n",
    "#         shorter_series, longer_series = s2, s1\n",
    "\n",
    "#     count = shorter_series.isin(longer_series).sum()\n",
    "\n",
    "#     if count >= (len(shorter_series)) and count > 3:\n",
    "#         return 1\n",
    "#     else:\n",
    "#         return 0\n",
    "\n",
    "# unique_id = 1000000\n",
    "# for index, row in out_df.iterrows():\n",
    "#     item_name = row['item_name']\n",
    "#     if int(row['add_together']) < 999999: \n",
    "#         similar_items = out_df[out_df['item_name'].apply(lambda x: compare_strings(item_name, x)) == 1]\n",
    "#         out_df.loc[similar_items.index, 'add_together'] = unique_id\n",
    "#         unique_id += 1"
   ]
  },
  {
   "cell_type": "code",
   "execution_count": 50,
   "id": "f4ab01c2-14ab-4839-8049-7d1b43f16bf0",
   "metadata": {
    "scrolled": true
   },
   "outputs": [
    {
     "name": "stderr",
     "output_type": "stream",
     "text": [
      "C:\\Users\\birysa\\AppData\\Local\\Temp\\ipykernel_2376\\1415567431.py:1: SettingWithCopyWarning: \n",
      "A value is trying to be set on a copy of a slice from a DataFrame.\n",
      "Try using .loc[row_indexer,col_indexer] = value instead\n",
      "\n",
      "See the caveats in the documentation: https://pandas.pydata.org/pandas-docs/stable/user_guide/indexing.html#returning-a-view-versus-a-copy\n",
      "  out_df['image_url'] = out_df.apply(fill_img_url, axis=1)\n"
     ]
    }
   ],
   "source": [
    "out_df['image_url'] = out_df.apply(fill_img_url, axis=1)"
   ]
  },
  {
   "cell_type": "code",
   "execution_count": 51,
   "id": "e754c96a",
   "metadata": {},
   "outputs": [
    {
     "data": {
      "text/plain": [
       "1       http://89.108.75.237/images/categories/goods_f...\n",
       "2                 https://cdn2.randewoo.ru/img/419609/s/1\n",
       "20      http://89.108.75.237/images/categories/goods_f...\n",
       "63                https://cdn2.randewoo.ru/img/140545/n/1\n",
       "64                https://cdn2.randewoo.ru/img/140542/n/1\n",
       "                              ...                        \n",
       "3754    http://89.108.75.237/images/categories/goods_f...\n",
       "3755    http://89.108.75.237/images/categories/goods_f...\n",
       "3758              https://cdn2.randewoo.ru/img/346282/s/1\n",
       "3761              https://cdn2.randewoo.ru/img/408248/n/1\n",
       "3790              https://cdn2.randewoo.ru/img/328153/s/1\n",
       "Name: image_url, Length: 325, dtype: object"
      ]
     },
     "execution_count": 51,
     "metadata": {},
     "output_type": "execute_result"
    }
   ],
   "source": [
    "out_df['image_url']"
   ]
  },
  {
   "cell_type": "code",
   "execution_count": 52,
   "id": "86601483",
   "metadata": {},
   "outputs": [],
   "source": [
    "out_df.insert(5, 'ozon_id', '')"
   ]
  },
  {
   "cell_type": "code",
   "execution_count": 53,
   "id": "05cde630",
   "metadata": {},
   "outputs": [],
   "source": [
    "out_df.insert(7, 'barcode', '')"
   ]
  },
  {
   "cell_type": "code",
   "execution_count": 54,
   "id": "7857140d",
   "metadata": {},
   "outputs": [],
   "source": [
    "out_df.insert(13, 'add_photo', '')\n",
    "out_df.insert(14, '360_photo', '')\n",
    "out_df.insert(15, 'art_photo', '')"
   ]
  },
  {
   "cell_type": "code",
   "execution_count": 55,
   "id": "74d6deb4",
   "metadata": {},
   "outputs": [],
   "source": [
    "out_df = out_df.drop('model_name', axis=1)"
   ]
  },
  {
   "cell_type": "code",
   "execution_count": 56,
   "id": "accd046f",
   "metadata": {},
   "outputs": [],
   "source": [
    "columns = list(out_df.columns)\n",
    "\n",
    "item_type_index = columns.index('item_type')\n",
    "brand_index = columns.index('brand')\n",
    "\n",
    "columns[item_type_index], columns[brand_index] = columns[brand_index], columns[item_type_index]\n",
    "\n",
    "out_df = out_df.reindex(columns=columns)"
   ]
  },
  {
   "cell_type": "code",
   "execution_count": 57,
   "id": "3ed8ef45",
   "metadata": {},
   "outputs": [],
   "source": [
    "item_type_index = columns.index('add_together')\n",
    "brand_index = columns.index('sex')\n",
    "\n",
    "columns[item_type_index], columns[brand_index] = columns[brand_index], columns[item_type_index]\n",
    "\n",
    "out_df = out_df.reindex(columns=columns)"
   ]
  },
  {
   "cell_type": "code",
   "execution_count": 58,
   "id": "2be9a7f9",
   "metadata": {},
   "outputs": [],
   "source": [
    "item_type_index = columns.index('sex')\n",
    "brand_index = columns.index('volume')\n",
    "\n",
    "columns[item_type_index], columns[brand_index] = columns[brand_index], columns[item_type_index]\n",
    "\n",
    "out_df = out_df.reindex(columns=columns)"
   ]
  },
  {
   "cell_type": "code",
   "execution_count": 59,
   "id": "37b08805",
   "metadata": {},
   "outputs": [],
   "source": [
    "import numpy as np\n",
    "\n",
    "out_df.insert(20, 'in_one_item', np.ones(len(out_df), dtype=int))"
   ]
  },
  {
   "cell_type": "code",
   "execution_count": 60,
   "id": "e669039e",
   "metadata": {},
   "outputs": [],
   "source": [
    "item_type_index = columns.index('danger_class')\n",
    "brand_index = columns.index('target_audience')\n",
    "\n",
    "columns[item_type_index], columns[brand_index] = columns[brand_index], columns[item_type_index]\n",
    "\n",
    "out_df = out_df.reindex(columns=columns)"
   ]
  },
  {
   "cell_type": "code",
   "execution_count": 61,
   "id": "584f053d",
   "metadata": {},
   "outputs": [],
   "source": [
    "out_df.insert(23, 'rich', '')\n",
    "out_df.insert(24, 'model_name', '')\n",
    "out_df.insert(25, 'min_kid', '')\n",
    "out_df.insert(26, 'max_kid', '')\n",
    "out_df.insert(27, 'plan', '')"
   ]
  },
  {
   "cell_type": "code",
   "execution_count": 62,
   "id": "91b950c6",
   "metadata": {},
   "outputs": [],
   "source": [
    "item_type_index = columns.index('annotation')\n",
    "brand_index = columns.index('composition')\n",
    "\n",
    "columns[item_type_index], columns[brand_index] = columns[brand_index], columns[item_type_index]\n",
    "\n",
    "out_df = out_df.reindex(columns=columns)"
   ]
  },
  {
   "cell_type": "code",
   "execution_count": 63,
   "id": "a0d11969",
   "metadata": {},
   "outputs": [],
   "source": [
    "search_str = [\"ZARKOPERFUME\", \"Acqua di Parma\", \"Abercrombie & Fitch\", \"Aerin\", \"Giorgio Armani\", \"Armani\", \"Amouage\", \"Balmain\", \"Benetton\", \"Boadicea The Victorious\", \"BYBOZO\", \"Byredo\", \"Carolina Herrera\", \"Calvin Klein\", \"CK\", \"Creed\", \"Diptyque\", \"Donna Karan\", \"Christian Dior\", \"Ermenegildo Zegna\", \"Etat Libre D`Orange\", \"Etat\", \"Evody\", \"Ex Nihilo\", \"Franck Olivier\", \"Giardino Benessere\", \"Guess\", \"Gucci\", \"Hermes\", \"Hermetica\", \"Histoires de Parfums\", \"Jacques Zolty\", \"Jeanne Arthes\", \"John Varvatos\", \"Juicy Couture\", \"Couture\", \"Juliette has a Gun\", \"Lanvin\", \"Lacoste\", \"Lancome\", \"Les Contes\", \"Michael Kors\", \"Moresque\", \"Olfactive Studio\", \"Paco Rabanne\", \"Penhaligon's\", \"Philipp Plein\", \"Ralph Lauren\", \"Stella McCartney\", \"Tiziana Terenzi\", \"Tom Ford\", \"Tommy Hilfiger\", \"Tous\", \"V Canto\", \"Vilhelm Parfumerie\", \"Zarkoperfume\", \"Versace\", \"Givenchy\", \"Memo\", \"Hermes\", \"Jo Malone\", 'аква ди парма', 'аберкромби & фитч', 'аерин', 'Амуаж', 'Бальмен', 'Бальмэйн', 'Бенеттон', 'Бодичеа Викториос', 'Байбозо', 'Биредо', 'Каролина Херрера', 'Кельвин Кляйн', 'Крид', 'Диптик', 'Донна Каран', 'Диор', 'Ерменегильдо Зегна', 'Этат', 'Эводи', 'Экс Нихило', 'Фрэнк Оливер', 'Жардино Бенессере', 'Гесс', 'Гуччи', 'Гермес', 'Герметика', 'Хисторес де парфюмс', 'Жакье Золти', 'Жан Артес', 'Джон Варватос', 'Джуси Кутюр', 'Майкл Корс', 'Мореск', 'Ольфактив Студио', 'Пако Рабанне', 'Пенхалигонс', 'Филипп Пляйн', 'Ральф Лорен', 'Стелла МакКартни', 'Тизмана Терензи', 'Том Форд', 'Томми хилфигер', 'Той', 'В Канто', 'Вильгельм Парфюмерие', 'Заркоперфюм', 'Версаче', 'Дживанши', 'Мемо', 'Гермес', 'Джо Малон']"
   ]
  },
  {
   "cell_type": "code",
   "execution_count": 64,
   "id": "210debcd",
   "metadata": {},
   "outputs": [],
   "source": [
    "for item in search_str:\n",
    "    mask = out_df['brand'].astype(str).apply(lambda y: bool(re.search(re.escape(item.lower()), y.lower(), re.IGNORECASE)))\n",
    "    out_df.loc[mask, 'brand'] = \"НЕТ БРЕНДА\""
   ]
  },
  {
   "cell_type": "code",
   "execution_count": 65,
   "id": "9ec9fdcd",
   "metadata": {},
   "outputs": [],
   "source": [
    "delete_str = [\"Antonio Banderas\", \"Hugo Boss\", \"Carolina Herrera\", \"Chanel\", \"Clarins\", \"Dior\", \"Dolce & Gabbana\", \"Escentric Molecules\", \"Armani\", \"Givenchy\", \"Lancome\", \"Lanvin\", \"Versace\", 'Антонио Бандерас', 'Хуго Босс', 'Каролина Херрера', 'Шанел', 'Кларинс', 'Диор', 'Дольче & Габанна', 'Ескентрик Молекулес', 'Армани', 'Дживанши', 'Ланкоме', 'Ланвин', 'Версаче', 'Хьюго Босс', 'Клэринс', 'Клеринс', 'Дольче Габана', 'Дольче Габбана', 'Живанши', 'Ланком']"
   ]
  },
  {
   "cell_type": "code",
   "execution_count": 66,
   "id": "a22f24ea",
   "metadata": {},
   "outputs": [],
   "source": [
    "for item in delete_str:\n",
    "    mask = out_df.apply(lambda row: row.astype(str).str.contains(r'\\b' + re.escape(item) + r'\\b', case=False, regex=True).any(), axis=1)\n",
    "    out_df = out_df[~mask]"
   ]
  },
  {
   "cell_type": "code",
   "execution_count": 67,
   "id": "32f93a1f",
   "metadata": {},
   "outputs": [],
   "source": [
    "replace_str = ''\n",
    "for item in search_str:\n",
    "    mask = out_df['item_name'].astype(str).apply(lambda y: bool(re.search(r'\\b' + re.escape(item.lower()) + r'\\b' + ', ', y.lower(), re.IGNORECASE)))\n",
    "    out_df.loc[mask, 'item_name'] = out_df.loc[mask, 'item_name'].apply(lambda x: re.sub(r'\\b' + re.escape(item) + r'\\b' + ', ', replace_str, x, flags=re.IGNORECASE) if isinstance(x, str) else x)"
   ]
  },
  {
   "cell_type": "code",
   "execution_count": 68,
   "id": "71d89d14",
   "metadata": {},
   "outputs": [],
   "source": [
    "for item in search_str:\n",
    "    mask = out_df['annotation'].astype(str).apply(lambda y: bool(re.search(r'\\b' + re.escape(item.lower()) + r'\\b', y.lower(), re.IGNORECASE)))\n",
    "    out_df.loc[mask, 'annotation'] = out_df.loc[mask, 'annotation'].apply(lambda x: re.sub(r'\\b' + re.escape(item) + r'\\b', replace_str, x, flags=re.IGNORECASE) if isinstance(x, str) else x)"
   ]
  },
  {
   "cell_type": "code",
   "execution_count": 69,
   "id": "487f4b86",
   "metadata": {},
   "outputs": [],
   "source": [
    "out_df.insert(20, 'in_one_item', np.ones(len(out_df), dtype=int))"
   ]
  },
  {
   "cell_type": "code",
   "execution_count": 70,
   "id": "510b0833",
   "metadata": {},
   "outputs": [],
   "source": [
    "out_df = out_df.applymap(lambda x: \"\" if isinstance(x, str) and \".svg\" in x else x)\n",
    "out_df = out_df.applymap(lambda x: x.replace('s/1', 'z/1') if isinstance(x, str) and 's/1' in x else x)\n",
    "out_df = out_df.applymap(lambda x: x.replace('n/1', 'z/1') if isinstance(x, str) and 'n/1' in x else x)"
   ]
  },
  {
   "cell_type": "code",
   "execution_count": 71,
   "id": "17896bf9",
   "metadata": {},
   "outputs": [],
   "source": [
    "out_df = out_df.sort_values('image_url', na_position='last')\n",
    "out_df = out_df.drop_duplicates(subset=[out_df.columns[0]], keep='first')\n",
    "out_df = out_df.drop_duplicates(subset=[out_df.columns[1]], keep='first')"
   ]
  },
  {
   "cell_type": "code",
   "execution_count": 72,
   "id": "06e32171",
   "metadata": {},
   "outputs": [],
   "source": [
    "out_df = out_df.iloc[3:]\n",
    "out_df = out_df[(out_df['volume'].astype(int) >= 14) & (out_df['volume'].astype(int) <= 200)]"
   ]
  },
  {
   "cell_type": "code",
   "execution_count": 73,
   "id": "357f9ae5",
   "metadata": {},
   "outputs": [],
   "source": [
    "countries = [\"Австралия\", \"Австрия\", \"Азербайджан\", \"Аргентина\", \"Бахрейн\", \"Бельгия\", \"Великобритания\", \"Германия\", \"Греция\", \"Дания\", \"Египет\", \"Индия\", \"Ирландия\", \"Исландия\", \"Испания\", \"Италия\", \"Канада\", \"Катар\", \"Китай\", \"Кувейт\", \"Латвия\", \"Ливан\", \"Монако\", \"Нидерланды\", \"ОАЭ\", \"Оман\", \"Польша\", \"Португалия\", \"Россия\", \"США\", \"Саудовская Аравия\", \"Сирия\", \"Словакия\", \"Словения\", \"Турция\", \"Украина\", \"Финляндия\", \"Франция\", \"Чехия\", \"Швейцария\", \"Швеция\", \"Япония\"]\n",
    "\n",
    "out_df.loc[~out_df['country'].isin(countries), 'country'] = ''"
   ]
  },
  {
   "cell_type": "code",
   "execution_count": 74,
   "id": "b91589f1",
   "metadata": {},
   "outputs": [],
   "source": [
    "import re\n",
    "\n",
    "def replace_ml(text):\n",
    "    return re.sub(r'(\\d+)мл', r'\\1 мл', text)\n",
    "\n",
    "out_df = out_df.applymap(lambda x: replace_ml(x) if isinstance(x, str) else x)\n"
   ]
  },
  {
   "cell_type": "code",
   "execution_count": null,
   "id": "9c5b19fa",
   "metadata": {},
   "outputs": [],
   "source": []
  },
  {
   "cell_type": "code",
   "execution_count": 75,
   "id": "82f2bbc1",
   "metadata": {},
   "outputs": [],
   "source": [
    "# def compare_strings(s1, s2):\n",
    "#     s1 = pd.Series([x for x in str(s1).lower().split(\",\") if 'мл' not in x])\n",
    "#     s2 = pd.Series([x for x in str(s2).lower().split(\",\") if 'мл' not in x])\n",
    "    \n",
    "#     s1 = pd.Series([x for x in s1.str.split().explode() if x != ''])\n",
    "#     s2 = pd.Series([x for x in s2.str.split().explode() if x != ''])\n",
    "\n",
    "#     if len(s1) == len(s2):\n",
    "#         shorter_series, longer_series = s1, s2\n",
    "#     else:\n",
    "#         return 0\n",
    "\n",
    "#     count = shorter_series.isin(longer_series).sum()\n",
    "\n",
    "#     if count >= (len(shorter_series)) and count > 3:\n",
    "#         return 1\n",
    "#     else:\n",
    "#         return 0"
   ]
  },
  {
   "cell_type": "code",
   "execution_count": 76,
   "id": "ac398182",
   "metadata": {},
   "outputs": [],
   "source": [
    "# unique_id = 1000000\n",
    "# for index, row in out_df.iterrows():\n",
    "#     item_name = row['item_name']\n",
    "#     if int(row['add_together']) < 999999: \n",
    "#         similar_items = out_df[out_df['item_name'].apply(lambda x: compare_strings(item_name, x)) == 1]\n",
    "#         out_df.loc[similar_items.index, 'add_together'] = unique_id\n",
    "#         unique_id += 1"
   ]
  },
  {
   "cell_type": "code",
   "execution_count": 77,
   "id": "b41c580a",
   "metadata": {},
   "outputs": [],
   "source": [
    "out_df['item_type'] = 'Духи'"
   ]
  },
  {
   "cell_type": "code",
   "execution_count": 78,
   "id": "c01ddd72",
   "metadata": {},
   "outputs": [],
   "source": [
    "file_path = '~/Desktop/Духи женские.xlsx'\n",
    "\n",
    "out_df.sort_values('add_together').to_excel(file_path, index=False)"
   ]
  },
  {
   "cell_type": "code",
   "execution_count": null,
   "id": "b8ca2298",
   "metadata": {},
   "outputs": [],
   "source": []
  }
 ],
 "metadata": {
  "kernelspec": {
   "display_name": "Python 3 (ipykernel)",
   "language": "python",
   "name": "python3"
  },
  "language_info": {
   "codemirror_mode": {
    "name": "ipython",
    "version": 3
   },
   "file_extension": ".py",
   "mimetype": "text/x-python",
   "name": "python",
   "nbconvert_exporter": "python",
   "pygments_lexer": "ipython3",
   "version": "3.11.3"
  }
 },
 "nbformat": 4,
 "nbformat_minor": 5
}
